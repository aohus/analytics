{
 "cells": [
  {
   "attachments": {},
   "cell_type": "markdown",
   "metadata": {},
   "source": [
    "### install modules"
   ]
  },
  {
   "cell_type": "code",
   "execution_count": 13,
   "metadata": {},
   "outputs": [],
   "source": [
    "from selenium import webdriver\n",
    "from bs4 import BeautifulSoup\n",
    "import pandas as pd\n",
    "import time\n",
    "import re\n",
    "import csv\n",
    "import numpy as np"
   ]
  },
  {
   "attachments": {},
   "cell_type": "markdown",
   "metadata": {},
   "source": [
    "### get secret"
   ]
  },
  {
   "cell_type": "code",
   "execution_count": null,
   "metadata": {},
   "outputs": [],
   "source": [
    "import json\n",
    "from pathlib import Path\n",
    "from typing import Optional\n",
    "\n",
    "BASE_DIR = Path(__file__).resolve()\n",
    "\n",
    "\n",
    "def get_secret(\n",
    "    key: str,\n",
    "    default_value: Optional[str] = None,\n",
    "    json_path: str = str(BASE_DIR / \"secret.json\"),\n",
    "):\n",
    "    with open(json_path) as f:\n",
    "        secrets = json.loads(f.read())\n",
    "    try:\n",
    "        return secrets[key]\n",
    "    except KeyError:\n",
    "        if default_value:\n",
    "            return default_value\n",
    "        raise EnvironmentError(f\"Set the {key} environment variable.\")\n",
    "\n",
    "ID = get_secret(\"NAVER_ID\")\n",
    "PW = get_secret(\"NAVER_PASSWORD\")\n",
    "        "
   ]
  },
  {
   "attachments": {},
   "cell_type": "markdown",
   "metadata": {},
   "source": [
    "### 웹브라우저 접속 및 로그인 "
   ]
  },
  {
   "cell_type": "code",
   "execution_count": 2,
   "metadata": {},
   "outputs": [],
   "source": [
    "driver = webdriver.Chrome('/Users/aohus/Documents/workspaces/Python/Studying/chromedriver')\n",
    "driver.implicitly_wait(3)"
   ]
  },
  {
   "cell_type": "code",
   "execution_count": 3,
   "metadata": {},
   "outputs": [],
   "source": [
    "# 로그인 전용 화면\n",
    "driver.get('https://nid.naver.com/nidlogin.login?svctype=262144&url=http://m.naver.com/aside/')\n",
    "\n",
    "# 아이디와 비밀번호 입력\n",
    "driver.find_element_by_name('id').send_keys(ID)\n",
    "time.sleep(2)\n",
    "driver.find_element_by_name('pw').send_keys(PW)\n",
    "time.sleep(2)\n",
    "\n",
    "# 로그인 버튼 클릭\n",
    "driver.find_element_by_css_selector('#frmNIDLogin > fieldset > input').click()"
   ]
  },
  {
   "attachments": {},
   "cell_type": "markdown",
   "metadata": {},
   "source": [
    "### 카페 url 주소에 연결\n",
    "(1) 서울지역 카테고리의 글 주소('href') 크롤링  \n",
    "(2) 각 게시물의 제목, 날짜, 글쓴이, 조회수, 댓글수 크롤링"
   ]
  },
  {
   "cell_type": "code",
   "execution_count": 4,
   "metadata": {},
   "outputs": [],
   "source": [
    "base_url = \"https://cafe.naver.com/thebbangs?iframe_url=/ArticleList.nhn%3Fsearch.clubid=24845809%26search.menuid=25%26userDisplay=50%26search.boardtype=L%26search.specialmenutype=%26search.totalCount=501%26search.page=9\"\n",
    "driver.get(base_url)"
   ]
  },
  {
   "cell_type": "code",
   "execution_count": 7,
   "metadata": {},
   "outputs": [
    {
     "data": {
      "text/plain": [
       "6600"
      ]
     },
     "execution_count": 7,
     "metadata": {},
     "output_type": "execute_result"
    }
   ],
   "source": [
    "# (폐지)구먹은빵자랑\n",
    "base_url = \"https://cafe.naver.com/thebbangs?iframe_url=/ArticleList.nhn%3Fsearch.clubid=24845809%26search.menuid=25%26userDisplay=50%26search.boardtype=L%26search.specialmenutype=%26search.totalCount=501%26search.page=\"\n",
    "test_list = []\n",
    "for i in range(9,141):\n",
    "    base_urli = base_url + str(i)\n",
    "    \n",
    "    driver.get(base_urli)\n",
    "    # iframe으로 프레임 전환\n",
    "    driver.switch_to.frame('cafe_main')\n",
    "\n",
    "    article_list = driver.find_elements_by_css_selector('#main-area > div:nth-child(6) > table > tbody > tr > td.td_article > div.board-list > div > a.article')\n",
    "    article_urls = [ i.get_attribute('href') for i in article_list ]\n",
    "\n",
    "    for link in article_urls:\n",
    "        test_list.append(link)\n"
   ]
  },
  {
   "cell_type": "code",
   "execution_count": 65,
   "metadata": {
    "scrolled": true
   },
   "outputs": [],
   "source": [
    "title_list = []\n",
    "date_list = []\n",
    "click_list = []\n",
    "content_list = []\n",
    "comment_list = []\n",
    "name_list = []\n",
    "img_list = []\n",
    "\n",
    "for i in range(6544,len(test_list)):\n",
    "    driver.get(test_list[i])\n",
    "    driver.switch_to.frame('cafe_main')\n",
    "    time.sleep(2.5)\n",
    "    html = BeautifulSoup(driver.page_source, 'html.parser')\n",
    "    \n",
    "    title = html.select('#app > div > div > div.ArticleContentBox > div.article_header > div.ArticleTitle > div > h3')\n",
    "    date = html.select('#app > div > div > div.ArticleContentBox > div.article_header > div.WriterInfo > div > div.article_info > span.date')\n",
    "    click = html.select('#app > div > div > div.ArticleContentBox > div.article_header > div.WriterInfo > div > div.article_info > span.count')\n",
    "    content = html.select('#app > div > div > div.ArticleContentBox > div.article_container > div.article_viewer > div')\n",
    "    comment = html.select('#app > div > div > div.ArticleContentBox > div.article_header > div.ArticleTool > a.button_comment > strong')\n",
    "    name = html.select('#app > div > div > div.ArticleContentBox > div.article_header > div.WriterInfo > div > div.profile_info > div')\n",
    "    #img = html.select('')\n",
    "    \n",
    "    title_text = title[0].text\n",
    "    date_text = date[0].text\n",
    "    click_text = click[0].text\n",
    "    content_text = content[0].text\n",
    "    comment_text = comment[0].text\n",
    "    name_text = name[0].text\n",
    "    #img_text = img[0].text\n",
    "    \n",
    "    title_list.append(title_text)\n",
    "    date_list.append(date_text)\n",
    "    click_list.append(click_text)\n",
    "    content_list.append(content_text)\n",
    "    comment_list.append(comment_text)\n",
    "    name_list.append(name_text)\n",
    "    #img_list.append(img_text)\n",
    "    "
   ]
  },
  {
   "cell_type": "code",
   "execution_count": null,
   "metadata": {},
   "outputs": [],
   "source": [
    "df = pd.DataFrame(zip(title_list, date_list, click_list, content_list, comment_list, name_list))\n",
    "df.columns = ['title', 'date', 'click', 'content', 'comment', 'nickname']\n",
    "pd.Dataframe().to_csv('../data/posts_2015.csv')"
   ]
  }
 ],
 "metadata": {
  "kernelspec": {
   "display_name": "Python 3",
   "language": "python",
   "name": "python3"
  },
  "language_info": {
   "codemirror_mode": {
    "name": "ipython",
    "version": 3
   },
   "file_extension": ".py",
   "mimetype": "text/x-python",
   "name": "python",
   "nbconvert_exporter": "python",
   "pygments_lexer": "ipython3",
   "version": "3.8.3"
  }
 },
 "nbformat": 4,
 "nbformat_minor": 4
}
